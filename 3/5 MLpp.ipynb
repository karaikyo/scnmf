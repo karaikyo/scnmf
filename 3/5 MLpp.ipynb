{
    "cells": [
        {
            "cell_type": "code",
            "execution_count": 1,
            "source": [
                "%load_ext autoreload\n",
                "%autoreload 2\n",
                "%matplotlib inline\n",
                "import matplotlib.pyplot as plt\n",
                "import pandas as pd\n",
                "import numpy as np\n",
                "import scanpy as sc\n",
                "from scipy.sparse import csr_matrix\n",
                "import anndata"
            ],
            "outputs": [],
            "metadata": {}
        },
        {
            "cell_type": "code",
            "execution_count": 2,
            "source": [
                "moudata = anndata.read_h5ad('../2/3 clustered_mou_0831_anno.h5ad')\n",
                "humdata = anndata.read_h5ad('../2/3 clustered_hum_0831_anno.h5ad')\n",
                "\n",
                "moudata_nn = sc.read_h5ad('2 filtered_normalised_scaled_mou_0902.h5ad') # not regressed\n",
                "humdata_nn = sc.read_h5ad('2 filtered_normalised_scaled_hum_0902.h5ad')"
            ],
            "outputs": [
                {
                    "output_type": "stream",
                    "name": "stderr",
                    "text": [
                        "/home/lh3n19/.conda/envs/my/lib/python3.8/site-packages/anndata/_core/anndata.py:120: ImplicitModificationWarning: Transforming to str index.\n",
                        "  warnings.warn(\"Transforming to str index.\", ImplicitModificationWarning)\n"
                    ]
                }
            ],
            "metadata": {}
        },
        {
            "cell_type": "code",
            "execution_count": 3,
            "source": [
                "np.sum(humdata_nn.X<0)"
            ],
            "outputs": [
                {
                    "output_type": "execute_result",
                    "data": {
                        "text/plain": [
                            "0"
                        ]
                    },
                    "metadata": {},
                    "execution_count": 3
                }
            ],
            "metadata": {}
        },
        {
            "cell_type": "code",
            "execution_count": 5,
            "source": [
                "mou_fm = pd.read_pickle('4 mou_featuremap_0829')\n",
                "hum_fm = pd.read_pickle('4 hum_featuremap_0829')\n",
                "\n",
                "mou_fm['Paralogue'] = mou_fm['ix_DGE_mm'].duplicated() | mou_fm['ix_DGE_hs'].duplicated()\n",
                "hum_fm['Paralogue'] = hum_fm['ix_DGE_mm'].duplicated() | hum_fm['ix_DGE_hs'].duplicated()\n",
                "\n",
                "mgiSymbol_hsVarGenes = mou_fm[mou_fm['hsapiens_homolog_associated_gene_name'].isin(humdata.var_names[humdata.var['highly_variable']])]['mgi_symbol']\n",
                "\n",
                "genesToConsider = list(set(mgiSymbol_hsVarGenes).union(set(moudata.var_names[moudata.var['highly_variable']])))"
            ],
            "outputs": [],
            "metadata": {}
        },
        {
            "cell_type": "code",
            "execution_count": 6,
            "source": [
                "len(genesToConsider)"
            ],
            "outputs": [
                {
                    "output_type": "execute_result",
                    "data": {
                        "text/plain": [
                            "5067"
                        ]
                    },
                    "metadata": {},
                    "execution_count": 6
                }
            ],
            "metadata": {}
        },
        {
            "cell_type": "code",
            "execution_count": 9,
            "source": [
                "mou_fm['UseForTrainingNN'] = moudata.var_names[mou_fm['ix_DGE_mm'].astype('int32')].isin(genesToConsider)\n",
                "FeatureSubset = ~(mou_fm['mgi_symbol'].duplicated() | mou_fm['hsapiens_homolog_associated_gene_name'].duplicated()) & mou_fm['UseForTrainingNN']"
            ],
            "outputs": [],
            "metadata": {}
        },
        {
            "cell_type": "code",
            "execution_count": 10,
            "source": [
                "mou_fm"
            ],
            "outputs": [
                {
                    "output_type": "execute_result",
                    "data": {
                        "text/plain": [
                            "          mgi_symbol     ensembl_gene_id hsapiens_homolog_ensembl_gene  \\\n",
                            "4      0610010F05Rik  ENSMUSG00000042208               ENSG00000162929   \n",
                            "5      0610010K14Rik  ENSMUSG00000020831               ENSG00000258315   \n",
                            "6      0610030E20Rik  ENSMUSG00000058706               ENSG00000168887   \n",
                            "9      0610040J01Rik  ENSMUSG00000060512               ENSG00000154274   \n",
                            "14     1110004F10Rik  ENSMUSG00000030663               ENSG00000110696   \n",
                            "...              ...                 ...                           ...   \n",
                            "15956           Zxdc  ENSMUSG00000034430               ENSG00000070476   \n",
                            "15957         Zyg11b  ENSMUSG00000034636               ENSG00000162378   \n",
                            "15958            Zyx  ENSMUSG00000029860               ENSG00000159840   \n",
                            "15959          Zzef1  ENSMUSG00000055670               ENSG00000074755   \n",
                            "15960           Zzz3  ENSMUSG00000039068               ENSG00000036549   \n",
                            "\n",
                            "      hsapiens_homolog_associated_gene_name  ix_DGE_mm  ix_DGE_hs  Paralogue  \\\n",
                            "4                                  KIAA1841        8.0     9405.0      False   \n",
                            "5                                  C17orf49        9.0     2768.0      False   \n",
                            "6                                   C2orf68       12.0     2953.0      False   \n",
                            "9                                   C4orf19       17.0     2990.0      False   \n",
                            "14                                 C11orf58       26.0     2663.0      False   \n",
                            "...                                     ...        ...        ...        ...   \n",
                            "15956                                  ZXDC    16567.0    23696.0      False   \n",
                            "15957                                ZYG11B    16568.0    23698.0      False   \n",
                            "15958                                   ZYX    16569.0    23699.0      False   \n",
                            "15959                                 ZZEF1    16570.0    23700.0      False   \n",
                            "15960                                  ZZZ3    16571.0    23701.0      False   \n",
                            "\n",
                            "       UseForTrainingNN  \n",
                            "4                  True  \n",
                            "5                 False  \n",
                            "6                  True  \n",
                            "9                 False  \n",
                            "14                False  \n",
                            "...                 ...  \n",
                            "15956              True  \n",
                            "15957             False  \n",
                            "15958              True  \n",
                            "15959             False  \n",
                            "15960             False  \n",
                            "\n",
                            "[12403 rows x 8 columns]"
                        ],
                        "text/html": [
                            "<div>\n",
                            "<style scoped>\n",
                            "    .dataframe tbody tr th:only-of-type {\n",
                            "        vertical-align: middle;\n",
                            "    }\n",
                            "\n",
                            "    .dataframe tbody tr th {\n",
                            "        vertical-align: top;\n",
                            "    }\n",
                            "\n",
                            "    .dataframe thead th {\n",
                            "        text-align: right;\n",
                            "    }\n",
                            "</style>\n",
                            "<table border=\"1\" class=\"dataframe\">\n",
                            "  <thead>\n",
                            "    <tr style=\"text-align: right;\">\n",
                            "      <th></th>\n",
                            "      <th>mgi_symbol</th>\n",
                            "      <th>ensembl_gene_id</th>\n",
                            "      <th>hsapiens_homolog_ensembl_gene</th>\n",
                            "      <th>hsapiens_homolog_associated_gene_name</th>\n",
                            "      <th>ix_DGE_mm</th>\n",
                            "      <th>ix_DGE_hs</th>\n",
                            "      <th>Paralogue</th>\n",
                            "      <th>UseForTrainingNN</th>\n",
                            "    </tr>\n",
                            "  </thead>\n",
                            "  <tbody>\n",
                            "    <tr>\n",
                            "      <th>4</th>\n",
                            "      <td>0610010F05Rik</td>\n",
                            "      <td>ENSMUSG00000042208</td>\n",
                            "      <td>ENSG00000162929</td>\n",
                            "      <td>KIAA1841</td>\n",
                            "      <td>8.0</td>\n",
                            "      <td>9405.0</td>\n",
                            "      <td>False</td>\n",
                            "      <td>True</td>\n",
                            "    </tr>\n",
                            "    <tr>\n",
                            "      <th>5</th>\n",
                            "      <td>0610010K14Rik</td>\n",
                            "      <td>ENSMUSG00000020831</td>\n",
                            "      <td>ENSG00000258315</td>\n",
                            "      <td>C17orf49</td>\n",
                            "      <td>9.0</td>\n",
                            "      <td>2768.0</td>\n",
                            "      <td>False</td>\n",
                            "      <td>False</td>\n",
                            "    </tr>\n",
                            "    <tr>\n",
                            "      <th>6</th>\n",
                            "      <td>0610030E20Rik</td>\n",
                            "      <td>ENSMUSG00000058706</td>\n",
                            "      <td>ENSG00000168887</td>\n",
                            "      <td>C2orf68</td>\n",
                            "      <td>12.0</td>\n",
                            "      <td>2953.0</td>\n",
                            "      <td>False</td>\n",
                            "      <td>True</td>\n",
                            "    </tr>\n",
                            "    <tr>\n",
                            "      <th>9</th>\n",
                            "      <td>0610040J01Rik</td>\n",
                            "      <td>ENSMUSG00000060512</td>\n",
                            "      <td>ENSG00000154274</td>\n",
                            "      <td>C4orf19</td>\n",
                            "      <td>17.0</td>\n",
                            "      <td>2990.0</td>\n",
                            "      <td>False</td>\n",
                            "      <td>False</td>\n",
                            "    </tr>\n",
                            "    <tr>\n",
                            "      <th>14</th>\n",
                            "      <td>1110004F10Rik</td>\n",
                            "      <td>ENSMUSG00000030663</td>\n",
                            "      <td>ENSG00000110696</td>\n",
                            "      <td>C11orf58</td>\n",
                            "      <td>26.0</td>\n",
                            "      <td>2663.0</td>\n",
                            "      <td>False</td>\n",
                            "      <td>False</td>\n",
                            "    </tr>\n",
                            "    <tr>\n",
                            "      <th>...</th>\n",
                            "      <td>...</td>\n",
                            "      <td>...</td>\n",
                            "      <td>...</td>\n",
                            "      <td>...</td>\n",
                            "      <td>...</td>\n",
                            "      <td>...</td>\n",
                            "      <td>...</td>\n",
                            "      <td>...</td>\n",
                            "    </tr>\n",
                            "    <tr>\n",
                            "      <th>15956</th>\n",
                            "      <td>Zxdc</td>\n",
                            "      <td>ENSMUSG00000034430</td>\n",
                            "      <td>ENSG00000070476</td>\n",
                            "      <td>ZXDC</td>\n",
                            "      <td>16567.0</td>\n",
                            "      <td>23696.0</td>\n",
                            "      <td>False</td>\n",
                            "      <td>True</td>\n",
                            "    </tr>\n",
                            "    <tr>\n",
                            "      <th>15957</th>\n",
                            "      <td>Zyg11b</td>\n",
                            "      <td>ENSMUSG00000034636</td>\n",
                            "      <td>ENSG00000162378</td>\n",
                            "      <td>ZYG11B</td>\n",
                            "      <td>16568.0</td>\n",
                            "      <td>23698.0</td>\n",
                            "      <td>False</td>\n",
                            "      <td>False</td>\n",
                            "    </tr>\n",
                            "    <tr>\n",
                            "      <th>15958</th>\n",
                            "      <td>Zyx</td>\n",
                            "      <td>ENSMUSG00000029860</td>\n",
                            "      <td>ENSG00000159840</td>\n",
                            "      <td>ZYX</td>\n",
                            "      <td>16569.0</td>\n",
                            "      <td>23699.0</td>\n",
                            "      <td>False</td>\n",
                            "      <td>True</td>\n",
                            "    </tr>\n",
                            "    <tr>\n",
                            "      <th>15959</th>\n",
                            "      <td>Zzef1</td>\n",
                            "      <td>ENSMUSG00000055670</td>\n",
                            "      <td>ENSG00000074755</td>\n",
                            "      <td>ZZEF1</td>\n",
                            "      <td>16570.0</td>\n",
                            "      <td>23700.0</td>\n",
                            "      <td>False</td>\n",
                            "      <td>False</td>\n",
                            "    </tr>\n",
                            "    <tr>\n",
                            "      <th>15960</th>\n",
                            "      <td>Zzz3</td>\n",
                            "      <td>ENSMUSG00000039068</td>\n",
                            "      <td>ENSG00000036549</td>\n",
                            "      <td>ZZZ3</td>\n",
                            "      <td>16571.0</td>\n",
                            "      <td>23701.0</td>\n",
                            "      <td>False</td>\n",
                            "      <td>False</td>\n",
                            "    </tr>\n",
                            "  </tbody>\n",
                            "</table>\n",
                            "<p>12403 rows × 8 columns</p>\n",
                            "</div>"
                        ]
                    },
                    "metadata": {},
                    "execution_count": 10
                }
            ],
            "metadata": {}
        },
        {
            "cell_type": "code",
            "execution_count": 19,
            "source": [
                "# centered\n",
                "x_mouse = moudata.X[:,mou_fm['ix_DGE_mm'].astype('int32')]\n",
                "x_mouse = x_mouse[:, FeatureSubset]\n",
                "x_mou_col = mou_fm[FeatureSubset]['mgi_symbol']\n",
                "x_mou_esb = mou_fm[FeatureSubset]['ensembl_gene_id']\n",
                "y_mou = moudata.obs['CellLabel'].to_numpy()\n",
                "np.savez_compressed('5 x_mou_0831_anno.npz', x = x_mouse, col = x_mou_col, esb = x_mou_esb, y = y_mou)\n",
                "\n",
                "x_hum = humdata.X[:,mou_fm['ix_DGE_hs'].astype('int32')]\n",
                "x_hum = x_hum[:, FeatureSubset]\n",
                "y_hum = humdata.obs['CellLabel'].to_numpy()\n",
                "np.savez_compressed('5 x_hum_0831_anno.npz', x = x_hum, y = y_hum)"
            ],
            "outputs": [],
            "metadata": {}
        },
        {
            "cell_type": "code",
            "execution_count": 12,
            "source": [
                "# non negative\n",
                "x_mouse = moudata_nn.X[:,mou_fm['ix_DGE_mm'].astype('int32')]\n",
                "x_mouse = x_mouse[:, FeatureSubset]\n",
                "#x_mou_col = mou_fm[FeatureSubset]['mgi_symbol']\n",
                "#x_mou_esb = mou_fm[FeatureSubset]['ensembl_gene_id']\n",
                "y_mou = moudata.obs['CellLabel'].to_numpy()\n",
                "np.savez_compressed('5 x_mou_0902_anno_nn.npz', x = x_mouse, y = y_mou)\n",
                "\n",
                "x_hum = humdata_nn.X[:,mou_fm['ix_DGE_hs'].astype('int32')]\n",
                "x_hum = x_hum[:, FeatureSubset]\n",
                "y_hum = humdata.obs['CellLabel'].to_numpy()\n",
                "np.savez_compressed('5 x_hum_0902_anno_nn.npz', x = x_hum, y = y_hum)"
            ],
            "outputs": [],
            "metadata": {}
        },
        {
            "cell_type": "code",
            "execution_count": 15,
            "source": [
                "x_mouse"
            ],
            "outputs": [
                {
                    "output_type": "execute_result",
                    "data": {
                        "text/plain": [
                            "<5512x4313 sparse matrix of type '<class 'numpy.float32'>'\n",
                            "\twith 1125777 stored elements in Compressed Sparse Row format>"
                        ]
                    },
                    "metadata": {},
                    "execution_count": 15
                }
            ],
            "metadata": {}
        }
    ],
    "metadata": {
        "orig_nbformat": 4,
        "language_info": {
            "name": "python",
            "version": "3.8.10",
            "mimetype": "text/x-python",
            "codemirror_mode": {
                "name": "ipython",
                "version": 3
            },
            "pygments_lexer": "ipython3",
            "nbconvert_exporter": "python",
            "file_extension": ".py"
        },
        "kernelspec": {
            "name": "python3",
            "display_name": "Python 3.8.10 64-bit ('my': conda)"
        },
        "interpreter": {
            "hash": "a289f13cfd4cbe2f71e5409eb1951d8d9e9486da2d0509b41e226be1b1242f8d"
        }
    },
    "nbformat": 4,
    "nbformat_minor": 2
}